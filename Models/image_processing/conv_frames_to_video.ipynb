{
  "nbformat": 4,
  "nbformat_minor": 0,
  "metadata": {
    "colab": {
      "name": "conv_frames_to_video.ipynb",
      "provenance": [],
      "collapsed_sections": []
    },
    "kernelspec": {
      "name": "python3",
      "display_name": "Python 3"
    },
    "language_info": {
      "name": "python"
    }
  },
  "cells": [
    {
      "cell_type": "code",
      "metadata": {
        "id": "MHjVb-_yXU_Z"
      },
      "source": [
        "import cv2\n",
        "import numpy as np\n",
        "import os\n",
        "import glob\n",
        "from PIL import Image\n",
        "import re"
      ],
      "execution_count": null,
      "outputs": []
    },
    {
      "cell_type": "code",
      "metadata": {
        "id": "6ewgcjqMNOLD"
      },
      "source": [
        "def cut_maps(map, min_x, max_x):\n",
        "    '''\n",
        "    function to convert feature maps into a video\n",
        "    map (str): feature map image location\n",
        "    \n",
        "    returns: cut feature maps with desired locations\n",
        "    '''\n",
        "\n",
        "    #load images\n",
        "    images = [file for file in glob.glob(map + '/*Conv*.png')]\n",
        "    images = [text[:-9] for text in images]\n",
        "    strip_txt = 'Conv1.png'\n",
        "    images.sort(key=lambda f: int(re.sub('\\D', '', f)))\n",
        "    files = [x+strip_txt for x in images]\n",
        "    print(files)\n",
        "    i=0\n",
        "\n",
        "    for fil in files:\n",
        "\n",
        "        img = Image.open(fil)\n",
        "        img.show()\n",
        "        width, height = img.size\n",
        "        left = 3534\n",
        "        right = 4404\n",
        "        top = 18\n",
        "        bottom = 168\n",
        "\n",
        "        img = img.crop((left, top, right, bottom))\n",
        "        img.save(f'/content/cut_feat{i}.png')\n",
        "        i += 1\n"
      ],
      "execution_count": null,
      "outputs": []
    },
    {
      "cell_type": "code",
      "metadata": {
        "id": "0QsSejK_mRlm"
      },
      "source": [
        "def merge_images(img_img, flow_img):\n",
        "    '''\n",
        "    glues flow and real image frames together\n",
        "    '''\n",
        "\n",
        "    width1, height1 = img_img.shape[0], img_img.shape[1]\n",
        "    width2, height2 = flow_img.shape[0], flow_img.shape[1]\n",
        "\n",
        "    result_width = width1 + width2\n",
        "    result_height = max(height1, height2)\n",
        "\n",
        "    img_img = Image.fromarray(img_img, 'RGB')\n",
        "    flow_img = Image.fromarray(flow_img, 'RGB')\n",
        "\n",
        "    result = Image.new('RGB', (result_width, result_height))\n",
        "    result.paste(img_img, box=(0, 0))\n",
        "    result.paste(flow_img, box=(width1, 0))\n",
        "    \n",
        "    return result"
      ],
      "execution_count": null,
      "outputs": []
    },
    {
      "cell_type": "code",
      "metadata": {
        "id": "caCSlbOBYZei"
      },
      "source": [
        "def multiframes2vid(file_loc, save_loc, fps):\n",
        "    '''\n",
        "    stitches frames and converts frames to an avi video\n",
        "    '''\n",
        "\n",
        "    flow_files = [file for file in glob.glob(file_loc + '/flow_x*')]\n",
        "    img_files = [file for file in glob.glob(file_loc + '/img_*')]\n",
        "\n",
        "    frames = []\n",
        "\n",
        "    for flow_file, img_file in zip(flow_files, img_files):\n",
        "\n",
        "        #load\n",
        "        img_img = cv2.imread(img_file)\n",
        "        flow_img = cv2.imread(flow_file)\n",
        "\n",
        "        #resize\n",
        "        img_img = cv2.resize(img_img, (512, 512))\n",
        "        flow_img = cv2.resize(flow_img, (512, 512))\n",
        "\n",
        "        #color\n",
        "        img_img = cv2.cvtColor(img_img, cv2.COLOR_BGR2RGB)\n",
        "        flow_img = cv2.cvtColor(flow_img, cv2.COLOR_BGR2RGB)\n",
        "\n",
        "        #stitch and convert color\n",
        "        img = merge_images(img_img, flow_img)\n",
        "        img = np.asarray(img)\n",
        "        img = cv2.cvtColor(img, cv2.COLOR_RGB2BGR)\n",
        "\n",
        "        frames.append(img)\n",
        "\n",
        "    size = frames[0].shape\n",
        "    flow_save = os.path.join(save_loc, file_loc.split('/')[-1] + '_comb.avi')\n",
        "    out = cv2.VideoWriter(flow_save, cv2.VideoWriter_fourcc(*'DIVX'), fps, (1024, 512))\n",
        "\n",
        "    for frame in frames:\n",
        "        out.write(frame)\n",
        "    out.release()"
      ],
      "execution_count": null,
      "outputs": []
    },
    {
      "cell_type": "code",
      "metadata": {
        "id": "6l3Y33h2UiW-"
      },
      "source": [
        "def single_frames2vid(save_loc, fps):\n",
        "    '''\n",
        "    converts frames to an avi video\n",
        "    '''\n",
        "    frames = []\n",
        "    for i in range(54):\n",
        "        img = cv2.imread(f'/content/cut_feat{i}.png')\n",
        "        img = cv2.resize(img, (1600, 200))\n",
        "        frames.append(img)\n",
        "\n",
        "    out = cv2.VideoWriter(save_loc, cv2.VideoWriter_fourcc(*'DIVX'), fps, (1600, 200))\n",
        "\n",
        "    for frame in frames:\n",
        "        out.write(frame)\n",
        "    out.release()"
      ],
      "execution_count": null,
      "outputs": []
    },
    {
      "cell_type": "code",
      "metadata": {
        "id": "TMFd0-GnZnPb"
      },
      "source": [
        "multiframes2vid('/content/drive/MyDrive/flow_test2/autumn/autumn3896', '/content/drive/MyDrive/flow_test2/finalvid', 16)"
      ],
      "execution_count": null,
      "outputs": []
    },
    {
      "cell_type": "code",
      "metadata": {
        "id": "ivAYFqtSaAmP"
      },
      "source": [
        "single_frames2vid('/content/vid/videotime.avi',2)"
      ],
      "execution_count": null,
      "outputs": []
    },
    {
      "cell_type": "code",
      "metadata": {
        "id": "UdfbYeb0aW9V"
      },
      "source": [
        ""
      ],
      "execution_count": null,
      "outputs": []
    }
  ]
}