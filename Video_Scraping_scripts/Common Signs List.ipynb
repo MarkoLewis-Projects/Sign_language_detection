{
 "cells": [
  {
   "cell_type": "code",
   "execution_count": 1,
   "id": "6c5f60f8",
   "metadata": {},
   "outputs": [],
   "source": [
    "#import packages\n",
    "\n",
    "from bs4 import BeautifulSoup\n",
    "import requests\n",
    "import pandas as pd\n",
    "import numpy as np\n",
    "import re"
   ]
  },
  {
   "cell_type": "code",
   "execution_count": 2,
   "id": "3d442efb",
   "metadata": {},
   "outputs": [],
   "source": [
    "#Empty df for words\n",
    "words = pd.DataFrame(columns=['words','rank'])"
   ]
  },
  {
   "cell_type": "code",
   "execution_count": 3,
   "id": "4aba2363",
   "metadata": {},
   "outputs": [],
   "source": [
    "#website that has the most common signed words\n",
    "site = 'https://www.handspeak.com/word/most-used/'\n",
    "\n",
    "#html parser\n",
    "result = requests.get(site)\n",
    "soup = BeautifulSoup(result.text, 'html.parser')"
   ]
  },
  {
   "cell_type": "code",
   "execution_count": 4,
   "id": "46c7b5f4",
   "metadata": {},
   "outputs": [],
   "source": [
    "#get all list elements\n",
    "parent1 = soup.find('section',attrs={'id':'content100','class':'tab-page'}).find('ol')\n",
    "words1 = [x.a.text[1:].lower() for x in parent1.findAll('li')]\n",
    "\n",
    "parent2 = soup.find('section',attrs={'id':'content200','class':'tab-page'}).find('ul')\n",
    "words2 = [x.a.text[1:].lower() for x in parent2.findAll('li')]\n",
    "\n",
    "parent3 = soup.find('section',attrs={'id':'content300','class':'tab-page'}).find('ul')\n",
    "words3 = [x.a.text[1:].lower() for x in parent3.findAll('li')]"
   ]
  },
  {
   "cell_type": "code",
   "execution_count": 5,
   "id": "71a5b015",
   "metadata": {},
   "outputs": [
    {
     "data": {
      "text/plain": [
       "275"
      ]
     },
     "execution_count": 5,
     "metadata": {},
     "output_type": "execute_result"
    }
   ],
   "source": [
    "#check all 275 words are read in\n",
    "total_sample = words1 + words2 + words3\n",
    "len(total_sample)"
   ]
  },
  {
   "cell_type": "code",
   "execution_count": 6,
   "id": "b486e746",
   "metadata": {},
   "outputs": [],
   "source": [
    "df = pd.DataFrame(enumerate(total_sample), columns = ['rank','word'])\n",
    "df['rank'] = df['rank'] + 1"
   ]
  },
  {
   "cell_type": "code",
   "execution_count": 7,
   "id": "10d0c97b",
   "metadata": {},
   "outputs": [
    {
     "data": {
      "text/html": [
       "<div>\n",
       "<style scoped>\n",
       "    .dataframe tbody tr th:only-of-type {\n",
       "        vertical-align: middle;\n",
       "    }\n",
       "\n",
       "    .dataframe tbody tr th {\n",
       "        vertical-align: top;\n",
       "    }\n",
       "\n",
       "    .dataframe thead th {\n",
       "        text-align: right;\n",
       "    }\n",
       "</style>\n",
       "<table border=\"1\" class=\"dataframe\">\n",
       "  <thead>\n",
       "    <tr style=\"text-align: right;\">\n",
       "      <th></th>\n",
       "      <th>rank</th>\n",
       "      <th>word</th>\n",
       "    </tr>\n",
       "  </thead>\n",
       "  <tbody>\n",
       "    <tr>\n",
       "      <th>0</th>\n",
       "      <td>1</td>\n",
       "      <td>again</td>\n",
       "    </tr>\n",
       "    <tr>\n",
       "      <th>1</th>\n",
       "      <td>2</td>\n",
       "      <td>also</td>\n",
       "    </tr>\n",
       "    <tr>\n",
       "      <th>2</th>\n",
       "      <td>3</td>\n",
       "      <td>ask</td>\n",
       "    </tr>\n",
       "    <tr>\n",
       "      <th>3</th>\n",
       "      <td>4</td>\n",
       "      <td>asl - american sign language</td>\n",
       "    </tr>\n",
       "    <tr>\n",
       "      <th>4</th>\n",
       "      <td>5</td>\n",
       "      <td>because</td>\n",
       "    </tr>\n",
       "    <tr>\n",
       "      <th>...</th>\n",
       "      <td>...</td>\n",
       "      <td>...</td>\n",
       "    </tr>\n",
       "    <tr>\n",
       "      <th>270</th>\n",
       "      <td>271</td>\n",
       "      <td>winter</td>\n",
       "    </tr>\n",
       "    <tr>\n",
       "      <th>271</th>\n",
       "      <td>272</td>\n",
       "      <td>wish</td>\n",
       "    </tr>\n",
       "    <tr>\n",
       "      <th>272</th>\n",
       "      <td>273</td>\n",
       "      <td>word</td>\n",
       "    </tr>\n",
       "    <tr>\n",
       "      <th>273</th>\n",
       "      <td>274</td>\n",
       "      <td>worse</td>\n",
       "    </tr>\n",
       "    <tr>\n",
       "      <th>274</th>\n",
       "      <td>275</td>\n",
       "      <td>young</td>\n",
       "    </tr>\n",
       "  </tbody>\n",
       "</table>\n",
       "<p>275 rows × 2 columns</p>\n",
       "</div>"
      ],
      "text/plain": [
       "     rank                          word\n",
       "0       1                         again\n",
       "1       2                          also\n",
       "2       3                           ask\n",
       "3       4  asl - american sign language\n",
       "4       5                       because\n",
       "..    ...                           ...\n",
       "270   271                        winter\n",
       "271   272                          wish\n",
       "272   273                          word\n",
       "273   274                         worse\n",
       "274   275                         young\n",
       "\n",
       "[275 rows x 2 columns]"
      ]
     },
     "execution_count": 7,
     "metadata": {},
     "output_type": "execute_result"
    }
   ],
   "source": [
    "df"
   ]
  },
  {
   "cell_type": "code",
   "execution_count": 8,
   "id": "86c3e832",
   "metadata": {},
   "outputs": [],
   "source": [
    "df.to_csv('sign_words.csv', sep=',', index=False, header=True)"
   ]
  }
 ],
 "metadata": {
  "kernelspec": {
   "display_name": "Python 3",
   "language": "python",
   "name": "python3"
  },
  "language_info": {
   "codemirror_mode": {
    "name": "ipython",
    "version": 3
   },
   "file_extension": ".py",
   "mimetype": "text/x-python",
   "name": "python",
   "nbconvert_exporter": "python",
   "pygments_lexer": "ipython3",
   "version": "3.8.8"
  },
  "toc": {
   "base_numbering": 1,
   "nav_menu": {},
   "number_sections": true,
   "sideBar": true,
   "skip_h1_title": false,
   "title_cell": "Table of Contents",
   "title_sidebar": "Contents",
   "toc_cell": false,
   "toc_position": {},
   "toc_section_display": true,
   "toc_window_display": false
  }
 },
 "nbformat": 4,
 "nbformat_minor": 5
}
