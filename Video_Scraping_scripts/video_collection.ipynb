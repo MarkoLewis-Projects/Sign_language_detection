{
 "cells": [
  {
   "cell_type": "code",
   "execution_count": 1,
   "id": "a4d94b83",
   "metadata": {},
   "outputs": [],
   "source": [
    "import pandas as pd\n",
    "import os\n",
    "from pytube import YouTube\n",
    "from moviepy.video.io.ffmpeg_tools import ffmpeg_extract_subclip"
   ]
  },
  {
   "cell_type": "code",
   "execution_count": 2,
   "id": "d590773d",
   "metadata": {},
   "outputs": [],
   "source": [
    "data = pd.read_json('MS-ASL/MSASL_train.json')\n",
    "data_test = pd.read_json('MS-ASL/MSASL_test.json')\n",
    "data_val = pd.read_json('MS-ASL/MSASL_val.json')"
   ]
  },
  {
   "cell_type": "code",
   "execution_count": 3,
   "id": "db5dd2c4",
   "metadata": {},
   "outputs": [],
   "source": [
    "data['file_name'] = data['clean_text'] + data.index.astype(str)\n",
    "data_test['file_name'] = data_test['clean_text'] + data_test.index.astype(str)\n",
    "data_val['file_name'] = data_val['clean_text'] + data_val.index.astype(str)"
   ]
  },
  {
   "cell_type": "code",
   "execution_count": 4,
   "id": "8b5637e8",
   "metadata": {},
   "outputs": [
    {
     "data": {
      "text/plain": [
       "4173"
      ]
     },
     "execution_count": 4,
     "metadata": {},
     "output_type": "execute_result"
    }
   ],
   "source": [
    "len(data.file.unique())"
   ]
  },
  {
   "cell_type": "code",
   "execution_count": 5,
   "id": "e9a00d87",
   "metadata": {},
   "outputs": [],
   "source": [
    "scraping_train = data[['url','start', 'end_time', 'fps', 'file_name']]\n",
    "scraping_test = data_test[['url','start', 'end_time', 'fps', 'file_name']]\n",
    "scraping_val = data_val[['url','start', 'end_time', 'fps', 'file_name']]"
   ]
  },
  {
   "cell_type": "code",
   "execution_count": 6,
   "id": "7b1a7699",
   "metadata": {},
   "outputs": [],
   "source": [
    "def downloadYouTube(videourl, start, end_time, fps , file_name, path, ext, out_path):\n",
    "\n",
    "    yt = YouTube(videourl)\n",
    "    yt = yt.streams.filter(file_extension='mp4', res='480p').first()\n",
    "    yt.download(path,filename=file_name)\n",
    "    file_name = file_name + '.mp4'\n",
    "    full_path = os.path.join(path,file_name)\n",
    "    save_path = os.path.join(out_path,ext+file_name)\n",
    "    \n",
    "    ffmpeg_extract_subclip(full_path, start/fps, end_time, targetname=save_path)\n",
    "    \n",
    "    os.remove(full_path)"
   ]
  },
  {
   "cell_type": "code",
   "execution_count": 7,
   "id": "332bc79b",
   "metadata": {},
   "outputs": [
    {
     "name": "stdout",
     "output_type": "stream",
     "text": [
      "Moviepy - Running:\n",
      ">>> \"+ \" \".join(cmd)\n",
      "Moviepy - Command successful\n",
      "Moviepy - Running:\n",
      ">>> \"+ \" \".join(cmd)\n",
      "Moviepy - Command successful\n",
      "Moviepy - Running:\n",
      ">>> \"+ \" \".join(cmd)\n",
      "Moviepy - Command successful\n",
      "Moviepy - Running:\n",
      ">>> \"+ \" \".join(cmd)\n",
      "Moviepy - Command successful\n",
      "Moviepy - Running:\n",
      ">>> \"+ \" \".join(cmd)\n",
      "Moviepy - Command successful\n",
      "Moviepy - Running:\n",
      ">>> \"+ \" \".join(cmd)\n",
      "Moviepy - Command successful\n",
      "Moviepy - Running:\n",
      ">>> \"+ \" \".join(cmd)\n",
      "Moviepy - Command successful\n",
      "Moviepy - Running:\n",
      ">>> \"+ \" \".join(cmd)\n",
      "Moviepy - Command successful\n",
      "Moviepy - Running:\n",
      ">>> \"+ \" \".join(cmd)\n",
      "Moviepy - Command successful\n",
      "Moviepy - Running:\n",
      ">>> \"+ \" \".join(cmd)\n",
      "Moviepy - Command successful\n",
      "Moviepy - Running:\n",
      ">>> \"+ \" \".join(cmd)\n",
      "Moviepy - Command successful\n",
      "Moviepy - Running:\n",
      ">>> \"+ \" \".join(cmd)\n",
      "Moviepy - Command successful\n",
      "Moviepy - Running:\n",
      ">>> \"+ \" \".join(cmd)\n",
      "Moviepy - Command successful\n"
     ]
    }
   ],
   "source": [
    "for i in range(len(scraping_train)):\n",
    "    try:\n",
    "        downloadYouTube(scraping_train['url'][i], scraping_train['start'][i], scraping_train['end_time'][i], scraping_train['fps'][i], scraping_train['file_name'][i], 'train', 'train_', 'Clipped_train')\n",
    "    except:\n",
    "        continue \n",
    "\n",
    "for i in range(len(scraping_test)):\n",
    "    try:\n",
    "        downloadYouTube(scraping_test['url'][i], scraping_test['start'][i], scraping_test['end_time'][i], scraping_test['fps'][i], scraping_test['file_name'][i], 'test', 'test_', 'Clipped_test')\n",
    "    except:\n",
    "        continue\n",
    "\n",
    "for i in range(len(scraping_val)):\n",
    "    try:\n",
    "        downloadYouTube(scraping_val['url'][i], scraping_val['start'][i], scraping_val['end_time'][i], scraping_val['fps'][i], scraping_val['file_name'][i], 'val', 'val_', 'Clipped_val')\n",
    "    except:\n",
    "        continue"
   ]
  },
  {
   "cell_type": "code",
   "execution_count": null,
   "id": "cb194c7c",
   "metadata": {},
   "outputs": [],
   "source": []
  }
 ],
 "metadata": {
  "kernelspec": {
   "display_name": "Python 3",
   "language": "python",
   "name": "python3"
  },
  "language_info": {
   "codemirror_mode": {
    "name": "ipython",
    "version": 3
   },
   "file_extension": ".py",
   "mimetype": "text/x-python",
   "name": "python",
   "nbconvert_exporter": "python",
   "pygments_lexer": "ipython3",
   "version": "3.8.8"
  },
  "toc": {
   "base_numbering": 1,
   "nav_menu": {},
   "number_sections": true,
   "sideBar": true,
   "skip_h1_title": false,
   "title_cell": "Table of Contents",
   "title_sidebar": "Contents",
   "toc_cell": false,
   "toc_position": {},
   "toc_section_display": true,
   "toc_window_display": false
  }
 },
 "nbformat": 4,
 "nbformat_minor": 5
}
